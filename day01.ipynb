{
 "cells": [
  {
   "cell_type": "markdown",
   "metadata": {},
   "source": [
    "在开房数据中取出一条:\n",
    "- 1、删除最后的换行符\n",
    "- 2、获取该数据下的人名以及邮箱\n",
    "- 3、将邮箱进行简单加密\n",
    "- 4、拼接人名 + 性别 + 地址 + 加密邮箱,以’-’分隔\n"
   ]
  },
  {
   "cell_type": "code",
   "execution_count": 26,
   "metadata": {},
   "outputs": [
    {
     "name": "stdout",
     "output_type": "stream",
     "text": [
      "陈萌,010-116321,M,19000101,北京市海淀区苏州街3号大恒科技大厦北座6层,100080,10116,010-82808028,010-82828028-208,chenmeng@dist.com.cn,0\n",
      "\n",
      "陈萌,010-116321,M,19000101,北京市海淀区苏州街3号大恒科技大厦北座6层,100080,10116,010-82808028,010-82828028-208,chenmeng@dist.com.cn,0\n",
      "0\n",
      "<class 'int'>\n",
      "陈萌\n",
      "陈萌\n",
      "chenmeng@dist.com\n",
      "chenmeng@dist.com\n",
      "ejgpogpiBfkuv0eqo\n",
      "陈萌-ejgpogpiBfkuv0eqo\n"
     ]
    }
   ],
   "source": [
    "file = 'C:\\\\Users\\\\lenovo\\\\Desktop\\\\python\\\\movies\\\\day01\\\\kaifangX.txt'\n",
    "open_file = open(file,mode='r',encoding='gbk')\n",
    "line = open_file.readline()\n",
    "\n",
    "print(line)\n",
    "strip_line = line.strip('\\n')\n",
    "print(strip_line)\n",
    "\n",
    "\n",
    "name = strip_line.find('陈萌')\n",
    "print(name)\n",
    "print(type(name))\n",
    "print(strip_line[0:2])\n",
    "chengmeng = strip_line[0:2]\n",
    "print(chengmeng)\n",
    "\n",
    "# 获取邮箱\n",
    "email_index = strip_line.find('chenmeng@dist.com.cn')\n",
    "print(strip_line[90:107])\n",
    "email = strip_line[90:107]\n",
    "print(email)\n",
    "\n",
    "# 将邮箱进行加密\n",
    "kong = ''\n",
    "for i in email:\n",
    "    jiami = chr(ord(i)+2)\n",
    "    kong = kong + jiami\n",
    "print(kong)\n",
    "\n",
    "# 字符串的拼接\n",
    "\n",
    "print(chengmeng + '-'+ kong )\n",
    "open_file.close()\n"
   ]
  },
  {
   "cell_type": "code",
   "execution_count": 31,
   "metadata": {},
   "outputs": [
    {
     "name": "stdout",
     "output_type": "stream",
     "text": [
      "陈萌,010-116321,M,19000101,北京市海淀区苏州街3号大恒科技大厦北座6层,100080,10116,010-82808028,010-82828028-208,chenmeng@dist.com.cn,0\n",
      "\n",
      "陈萌,010-116321,M,19000101,北京市海淀区苏州街3号大恒科技大厦北座6层,100080,10116,010-82808028,010-82828028-208,chenmeng@dist.com.cn,0\n",
      "['陈萌', '010-116321', 'M', '19000101', '北京市海淀区苏州街3号大恒科技大厦北座6层', '100080', '10116', '010-82808028', '010-82828028-208', 'chenmeng@dist.com.cn', '0\\n']\n",
      "<class 'list'>\n",
      "陈萌\n",
      "chenmeng@dist.com.cn\n"
     ]
    }
   ],
   "source": [
    "file = 'C:\\\\Users\\\\lenovo\\\\Desktop\\\\python\\\\movies\\\\day01\\\\kaifangX.txt'\n",
    "open_file = open(file,mode='r',encoding='gbk')\n",
    "line = open_file.readline()\n",
    "# 删除最后的换行符\n",
    "print(line)\n",
    "strip_line = line.strip('\\n')\n",
    "print(strip_line)\n",
    "\n",
    "split_line = line.split(',')\n",
    "print(split_line)\n",
    "print(type(split_line))\n",
    "name = split_line[0]\n",
    "print(name)\n",
    "email = split_line[9]\n",
    "print(email)\n",
    "\n",
    "open_file.close()\n"
   ]
  }
 ],
 "metadata": {
  "kernelspec": {
   "display_name": "Python 3",
   "language": "python",
   "name": "python3"
  },
  "language_info": {
   "codemirror_mode": {
    "name": "ipython",
    "version": 3
   },
   "file_extension": ".py",
   "mimetype": "text/x-python",
   "name": "python",
   "nbconvert_exporter": "python",
   "pygments_lexer": "ipython3",
   "version": "3.6.4"
  }
 },
 "nbformat": 4,
 "nbformat_minor": 2
}
